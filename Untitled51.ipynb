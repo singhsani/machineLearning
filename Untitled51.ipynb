{
  "nbformat": 4,
  "nbformat_minor": 0,
  "metadata": {
    "colab": {
      "provenance": [],
      "authorship_tag": "ABX9TyMLHOtVsFJ0mFjkJ1p7zWy/",
      "include_colab_link": true
    },
    "kernelspec": {
      "name": "python3",
      "display_name": "Python 3"
    },
    "language_info": {
      "name": "python"
    }
  },
  "cells": [
    {
      "cell_type": "markdown",
      "metadata": {
        "id": "view-in-github",
        "colab_type": "text"
      },
      "source": [
        "<a href=\"https://colab.research.google.com/github/singhsani/machineLearning/blob/main/Untitled51.ipynb\" target=\"_parent\"><img src=\"https://colab.research.google.com/assets/colab-badge.svg\" alt=\"Open In Colab\"/></a>"
      ]
    },
    {
      "cell_type": "code",
      "execution_count": 1,
      "metadata": {
        "id": "Li81wuSCft_r"
      },
      "outputs": [],
      "source": [
        "import numpy as np"
      ]
    },
    {
      "cell_type": "code",
      "source": [
        "#Create Arrays\n",
        "a=np.array([1,2,3,4,5])\n",
        "print(a)\n",
        "print(type(a))\n",
        "print(a.shape)\n",
        "a1=np.array((1,2,3,4,5))\n",
        "print(a1)\n",
        "print(type(a1))\n",
        "\n",
        "d = np.array([[[1, 2, 3], [4, 5, 6]], [[1, 2, 3], [4, 5, 6]]])\n",
        "print(d)\n",
        "#Create an array with 5 dimensions and verify that it has 5 dimensions\n",
        "c=np.array([1,2,3,4,5],ndmin=5)\n",
        "print(c)"
      ],
      "metadata": {
        "colab": {
          "base_uri": "https://localhost:8080/"
        },
        "collapsed": true,
        "id": "2gqR1yg9nPaH",
        "outputId": "379aa2bd-c4a7-4817-864d-56104b85ebc3"
      },
      "execution_count": 23,
      "outputs": [
        {
          "output_type": "stream",
          "name": "stdout",
          "text": [
            "[1 2 3 4 5]\n",
            "<class 'numpy.ndarray'>\n",
            "(5,)\n",
            "[1 2 3 4 5]\n",
            "<class 'numpy.ndarray'>\n",
            "[[[1 2 3]\n",
            "  [4 5 6]]\n",
            "\n",
            " [[1 2 3]\n",
            "  [4 5 6]]]\n",
            "[[[[[1 2 3 4 5]]]]]\n"
          ]
        }
      ]
    },
    {
      "cell_type": "code",
      "source": [
        "## check dimention of array\n",
        "print(a.ndim)\n",
        "print(a1.ndim)\n",
        "print(d.ndim)\n"
      ],
      "metadata": {
        "colab": {
          "base_uri": "https://localhost:8080/"
        },
        "collapsed": true,
        "id": "4z4aLbCErPwi",
        "outputId": "03f44dfc-cc43-43a9-d326-903aa710a0a2"
      },
      "execution_count": 21,
      "outputs": [
        {
          "output_type": "stream",
          "name": "stdout",
          "text": [
            "1\n",
            "1\n",
            "3\n"
          ]
        }
      ]
    },
    {
      "cell_type": "code",
      "source": [
        "#create array 0-D , 1-D,2-D\n",
        "# 0-D\n",
        "arr=np.array(42)\n",
        "print(arr)\n",
        "# 1-D\n",
        "arr=np.array([1,2,3,4,5])\n",
        "print(arr)\n",
        "# 2-D\n",
        "arr=np.array([[1,2,3,4],[3,4,5,6]])\n",
        "print(arr)\n"
      ],
      "metadata": {
        "colab": {
          "base_uri": "https://localhost:8080/"
        },
        "collapsed": true,
        "id": "IIq9Z7xeonpQ",
        "outputId": "ad4d7b09-6975-41c5-b462-676fd6941232"
      },
      "execution_count": 16,
      "outputs": [
        {
          "output_type": "stream",
          "name": "stdout",
          "text": [
            "42\n",
            "[1 2 3 4 5]\n",
            "[[1 2 3 4]\n",
            " [3 4 5 6]]\n"
          ]
        }
      ]
    },
    {
      "cell_type": "code",
      "source": [
        "arr=np.array([[1,2,3,4],[5,7,9,6]]);\n",
        "arr"
      ],
      "metadata": {
        "colab": {
          "base_uri": "https://localhost:8080/"
        },
        "collapsed": true,
        "id": "RB4HwOT2f_yB",
        "outputId": "089f6886-1758-456c-cc97-02cf977ee5a1"
      },
      "execution_count": 3,
      "outputs": [
        {
          "output_type": "execute_result",
          "data": {
            "text/plain": [
              "array([[1, 2, 3, 4],\n",
              "       [5, 7, 9, 6]])"
            ]
          },
          "metadata": {},
          "execution_count": 3
        }
      ]
    },
    {
      "cell_type": "code",
      "source": [
        "# Dimention of matrix\n",
        "print(arr.shape)\n",
        "# Second column\n",
        "print(arr[:,1])\n",
        "# first column\n",
        "print(arr[0,:])\n",
        "\n",
        "print(arr[0:,:1])\n",
        "print(arr[0,1])"
      ],
      "metadata": {
        "colab": {
          "base_uri": "https://localhost:8080/"
        },
        "id": "0DKIljuRgOIJ",
        "outputId": "a479ea44-e187-49e8-9223-650761889503"
      },
      "execution_count": 8,
      "outputs": [
        {
          "output_type": "stream",
          "name": "stdout",
          "text": [
            "(2, 4)\n",
            "[2 7]\n",
            "[1 2 3 4]\n",
            "[[1]\n",
            " [5]]\n",
            "2\n"
          ]
        }
      ]
    },
    {
      "cell_type": "code",
      "source": [],
      "metadata": {
        "id": "M44Uxxj0gVSi"
      },
      "execution_count": null,
      "outputs": []
    }
  ]
}